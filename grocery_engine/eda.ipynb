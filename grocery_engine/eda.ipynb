{
 "cells": [
  {
   "cell_type": "code",
   "execution_count": 6,
   "source": [
    "import pandas as pd\r\n",
    "from recipe_scrapers import scrape_me\r\n",
    "import parse_ingredient\r\n",
    "import re\r\n",
    "import numpy as np"
   ],
   "outputs": [],
   "metadata": {}
  },
  {
   "cell_type": "code",
   "execution_count": 2,
   "source": [
    "scraper = scrape_me('https://www.allrecipes.com/recipe/158968/spinach-and-feta-turkey-burgers/')"
   ],
   "outputs": [],
   "metadata": {}
  },
  {
   "cell_type": "code",
   "execution_count": 3,
   "source": [
    "ingredients = scraper.ingredients()"
   ],
   "outputs": [],
   "metadata": {}
  },
  {
   "cell_type": "code",
   "execution_count": 18,
   "source": [
    "def parse_ingredients(ingredients):\r\n",
    "    data = []\r\n",
    "    for ingredient in ingredients:\r\n",
    "        print(ingredient)\r\n",
    "        info = (ingredient, np.NaN, np.NaN, np.NaN)\r\n",
    "        try:\r\n",
    "            info = parse_ingredient.parse(ingredient)\r\n",
    "            info = info.as_dict()\r\n",
    "        except Exception as e:\r\n",
    "            pass\r\n",
    "            data.append(info)\r\n",
    "            continue\r\n",
    "        \r\n",
    "        #puts original ingredient if low confidence\r\n",
    "        if info[\"confidence\"] <= .05:\r\n",
    "            data.append((ingredient, np.NaN, np.NaN, np.NaN))\r\n",
    "            continue\r\n",
    "        \r\n",
    "        #puts all information together\r\n",
    "        data.append((info[\"product\"], info[\"quantity\"], info[\"unit\"], info[\"usda_info\"][\"category\"]))\r\n",
    "        \r\n",
    "    return pd.DataFrame(data, columns=[\"product\", \"quantity\", \"unit\", \"category\"])\r\n"
   ],
   "outputs": [],
   "metadata": {}
  },
  {
   "cell_type": "code",
   "execution_count": 24,
   "source": [
    "shopping_list = parse_ingredients(ingredients)"
   ],
   "outputs": [
    {
     "output_type": "stream",
     "name": "stdout",
     "text": [
      "2 eggs, beaten\n",
      "None\n",
      "{'ingredientRaw': '2 eggs, beaten', 'confidence': 0.9764371000000001, 'ingredientParsed': {'product': 'eggs', 'usdaInfo': {'category': 'Dairy and Egg Products', 'matchMethod': 'exact', 'description': 'Egg, whole, raw, fresh', 'fdcId': '171287'}, 'preparationNotes': 'beaten', 'productSizeModifier': None, 'unit': None, 'quantity': 2.0}, 'error': None}\n",
      "2 cloves garlic, minced\n",
      "None\n",
      "{'ingredientRaw': '2 cloves garlic, minced', 'confidence': 0.9817117, 'ingredientParsed': {'product': 'garlic', 'usdaInfo': {'category': None, 'matchMethod': 'exact', 'description': 'Garlic, raw', 'fdcId': '787793'}, 'preparationNotes': 'minced', 'productSizeModifier': None, 'unit': 'clove', 'quantity': 2.0}, 'error': None}\n",
      "4 ounces feta cheese\n",
      "None\n",
      "{'ingredientRaw': '4 ounces feta cheese', 'confidence': 0.9916780000000001, 'ingredientParsed': {'product': 'feta cheese', 'usdaInfo': {'category': 'Dairy and Egg Products', 'matchMethod': 'exact', 'description': 'Cheese, feta', 'fdcId': '173420'}, 'preparationNotes': None, 'productSizeModifier': None, 'unit': 'ounce', 'quantity': 4.0}, 'error': None}\n",
      "1 (10 ounce) box frozen chopped spinach, thawed and squeezed dry\n",
      "None\n",
      "{'ingredientRaw': '1 (10 ounce) box frozen chopped spinach, thawed and squeezed dry', 'confidence': 0.334193, 'ingredientParsed': {'product': None, 'usdaInfo': None, 'preparationNotes': 'thawed and squeezed dry', 'productSizeModifier': None, 'unit': 'box', 'quantity': 1.0}, 'error': None}\n",
      "2 pounds ground turkey\n",
      "None\n",
      "{'ingredientRaw': '2 pounds ground turkey', 'confidence': 0.9139855, 'ingredientParsed': {'product': 'turkey', 'usdaInfo': {'category': 'Poultry Products', 'matchMethod': 'closestUnbranded', 'description': 'Turkey, whole, light meat, raw', 'fdcId': '171490'}, 'preparationNotes': 'ground', 'productSizeModifier': None, 'unit': 'pound', 'quantity': 2.0}, 'error': None}\n"
     ]
    }
   ],
   "metadata": {}
  },
  {
   "cell_type": "code",
   "execution_count": 26,
   "source": [
    "shopping_list.groupby(\"product\").quantity.sum()"
   ],
   "outputs": [
    {
     "output_type": "execute_result",
     "data": {
      "text/plain": [
       "product\n",
       "1 (10 ounce) box frozen chopped spinach, thawed and squeezed dry    0.0\n",
       "eggs                                                                2.0\n",
       "feta cheese                                                         4.0\n",
       "garlic                                                              2.0\n",
       "turkey                                                              2.0\n",
       "Name: quantity, dtype: float64"
      ]
     },
     "metadata": {},
     "execution_count": 26
    }
   ],
   "metadata": {}
  },
  {
   "cell_type": "code",
   "execution_count": 32,
   "source": [
    "shopping_list.groupby(\"product\").unit.unique()"
   ],
   "outputs": [
    {
     "output_type": "execute_result",
     "data": {
      "text/plain": [
       "product\n",
       "1 (10 ounce) box frozen chopped spinach, thawed and squeezed dry      [nan]\n",
       "eggs                                                                 [None]\n",
       "feta cheese                                                         [ounce]\n",
       "garlic                                                              [clove]\n",
       "turkey                                                              [pound]\n",
       "Name: unit, dtype: object"
      ]
     },
     "metadata": {},
     "execution_count": 32
    }
   ],
   "metadata": {}
  }
 ],
 "metadata": {
  "orig_nbformat": 4,
  "language_info": {
   "name": "python"
  }
 },
 "nbformat": 4,
 "nbformat_minor": 2
}