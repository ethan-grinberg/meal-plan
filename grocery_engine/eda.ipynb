{
 "cells": [
  {
   "cell_type": "code",
   "execution_count": 1,
   "source": [
    "import pandas as pd\r\n",
    "from recipe_scrapers import scrape_me\r\n",
    "import parse_ingredient\r\n",
    "import altair as alt\r\n",
    "import numpy as np\r\n",
    "import os\r\n",
    "from functools import reduce"
   ],
   "outputs": [],
   "metadata": {}
  },
  {
   "cell_type": "code",
   "execution_count": 2,
   "source": [
    "def read_in_recipes():\r\n",
    "    os.chdir(\"..\")\r\n",
    "    os.chdir(\"data/\")\r\n",
    "    urls = pd.read_excel(\"yummy_recipes.xlsx\")\r\n",
    "    os.chdir(\"..\")\r\n",
    "    os.chdir(\"grocery_engine/\")\r\n",
    "\r\n",
    "    #remove duplicate recipes\r\n",
    "    urls.drop_duplicates(subset=[\"urls\"], inplace=True)\r\n",
    "    return urls"
   ],
   "outputs": [],
   "metadata": {}
  },
  {
   "cell_type": "code",
   "execution_count": 3,
   "source": [
    "def compile_recipe_info(urls):\r\n",
    "    dfs = []\r\n",
    "    for url in urls:\r\n",
    "        scraper = scrape_me(url)\r\n",
    "        ingredient_info = parse_ingredients(scraper.ingredients())\r\n",
    "\r\n",
    "        #Add other info\r\n",
    "        ingredient_info[\"recipe\"] = scraper.title()\r\n",
    "        ingredient_info[\"cook_time\"] = scraper.total_time()\r\n",
    "        ingredient_info[\"link\"] = url\r\n",
    "\r\n",
    "        dfs.append(ingredient_info)\r\n",
    "\r\n",
    "    return pd.concat(dfs)"
   ],
   "outputs": [],
   "metadata": {}
  },
  {
   "cell_type": "code",
   "execution_count": 5,
   "source": [
    "def parse_ingredients(ingredients):\r\n",
    "    data = []\r\n",
    "    for ingredient in ingredients:\r\n",
    "        info = (ingredient, np.NaN, np.NaN, np.NaN)\r\n",
    "        try:\r\n",
    "            info = parse_ingredient.parse(ingredient)\r\n",
    "            info = info.as_dict()\r\n",
    "        except Exception as e:\r\n",
    "            pass\r\n",
    "            print(e)\r\n",
    "            data.append(info)\r\n",
    "            continue\r\n",
    "        \r\n",
    "        #puts original ingredient if low confidence\r\n",
    "        if info[\"confidence\"] < .04:\r\n",
    "            data.append((ingredient, np.NaN, np.NaN, np.NaN))\r\n",
    "            continue\r\n",
    "        \r\n",
    "        #puts all information together\r\n",
    "        data.append((info[\"product\"], info[\"quantity\"], info[\"unit\"], info[\"usda_info\"][\"category\"]))\r\n",
    "        \r\n",
    "    return pd.DataFrame(data, columns=[\"product\", \"quantity\", \"unit\", \"category\"])\r\n"
   ],
   "outputs": [],
   "metadata": {}
  },
  {
   "cell_type": "code",
   "execution_count": 6,
   "source": [
    "def merge_shopping_list(list_):\r\n",
    "    quantity = list_.groupby(\"product\").quantity.sum()\r\n",
    "    units = list_.groupby(\"product\").unit.unique()\r\n",
    "    categories = list_.groupby(\"product\").category.first()\r\n",
    "    recipes = list_.groupby(\"product\").recipe.unique()\r\n",
    "\r\n",
    "    #union multiple recipes\r\n",
    "    recipes = recipes.str.join(\" + \")\r\n",
    "    #union multiple units\r\n",
    "    units = units.str.join(\", \")\r\n",
    "\r\n",
    "    df_merged = reduce(lambda left, right: pd.merge(left, right, left_index=True, right_index=True), [quantity, units, categories, recipes])\r\n",
    "\r\n",
    "    #prioritze items part of more recipes\r\n",
    "    # s = df_merged.recipe.str.len().sort_values(ascending=False).index\r\n",
    "    # df_merged = df_merged.reindex(s)\r\n",
    "    \r\n",
    "    df_merged = df_merged.sort_values([\"category\"])\r\n",
    "    return df_merged.reset_index()"
   ],
   "outputs": [],
   "metadata": {}
  },
  {
   "cell_type": "code",
   "execution_count": 8,
   "source": [
    "def save_updated_shopping_list(shopping_list):\r\n",
    "    #Save shopping list data to data folder\r\n",
    "    os.chdir(\"..\")\r\n",
    "    os.chdir(\"data/\")\r\n",
    "    shopping_list.to_json(\"shopping_list.json\", orient=\"records\")\r\n",
    "    os.chdir(\"..\")\r\n",
    "    os.chdir(\"grocery_engine/\")"
   ],
   "outputs": [],
   "metadata": {}
  },
  {
   "cell_type": "code",
   "execution_count": 9,
   "source": [
    "def save_recipe_table(full_list):\r\n",
    "    recipe_table = full_list.groupby(\"recipe\").apply(lambda df: df.iloc[0]).loc[:, [\"cook_time\", \"link\"]]\r\n",
    "    recipe_table = recipe_table.reset_index()\r\n",
    "\r\n",
    "    #save recipe table to data folder\r\n",
    "    os.chdir(\"..\")\r\n",
    "    os.chdir(\"data/\")\r\n",
    "    recipe_table.to_html(\"recipe_table.html\", render_links=True)\r\n",
    "    os.chdir(\"..\")\r\n",
    "    os.chdir(\"grocery_engine/\")"
   ],
   "outputs": [],
   "metadata": {}
  },
  {
   "cell_type": "code",
   "execution_count": 41,
   "source": [
    "def get_interactive_shopping_list(final_shopping_list):\r\n",
    "    selection = alt.selection(fields=[\"recipe\"], type=\"single\", bind=\"legend\")\r\n",
    "\r\n",
    "    ranked_text = alt.Chart(final_shopping_list).mark_text().encode(\r\n",
    "        y=alt.Y('row_number:O',axis=None),\r\n",
    "        color=\"recipe:N\",\r\n",
    "        opacity=alt.condition(selection, alt.value(1), alt.value(0.02))\r\n",
    "    ).add_selection(selection).transform_window(\r\n",
    "        row_number='row_number()'\r\n",
    "    ).transform_window(\r\n",
    "        rank='rank(row_number)'\r\n",
    "    ).properties(width=150)\r\n",
    "\r\n",
    "    # Data Tables\r\n",
    "    category = ranked_text.encode(text='category:N').properties(title='category')\r\n",
    "    quantity = ranked_text.encode(text='quantity:N').properties(title='quantity')\r\n",
    "    unit = ranked_text.encode(text='unit:N').properties(title='unit')\r\n",
    "    item = ranked_text.encode(text='product:N').properties(title='item')\r\n",
    "\r\n",
    "    chart = alt.hconcat(category, quantity, unit, item) # Combine data tables\r\n",
    "    \r\n",
    "    #set font sizes\r\n",
    "    chart = chart.configure_legend(padding=20, labelFontSize=15, titleFontSize=20, fillColor='#EEEEEE', cornerRadius=10, labelLimit=0, orient=\"top\", symbolSize=150)\r\n",
    "    chart = chart.configure_text(fontSize=13)\r\n",
    "\r\n",
    "    return chart\r\n"
   ],
   "outputs": [],
   "metadata": {}
  },
  {
   "cell_type": "code",
   "execution_count": 48,
   "source": [
    "def save_updated_chart_spec():\r\n",
    "    chart = get_interactive_shopping_list(pd.read_json('https://ethanbg2.github.io/meal-plan/data/shopping_list.json'))\r\n",
    "\r\n",
    "    os.chdir(\"..\")\r\n",
    "    os.chdir(\"data/\")\r\n",
    "    chart.save(\"chart_spec.json\")\r\n",
    "    os.chdir(\"..\")\r\n",
    "    os.chdir(\"grocery_engine/\")"
   ],
   "outputs": [],
   "metadata": {}
  },
  {
   "cell_type": "code",
   "execution_count": 44,
   "source": [
    "get_interactive_shopping_list(pd.read_json('https://ethanbg2.github.io/meal-plan/data/shopping_list.json'))"
   ],
   "outputs": [
    {
     "output_type": "execute_result",
     "data": {
      "text/plain": [
       "alt.HConcatChart(...)"
      ],
      "text/html": [
       "\n",
       "<div id=\"altair-viz-177c8307f5644ca986ebd5efefec05df\"></div>\n",
       "<script type=\"text/javascript\">\n",
       "  (function(spec, embedOpt){\n",
       "    let outputDiv = document.currentScript.previousElementSibling;\n",
       "    if (outputDiv.id !== \"altair-viz-177c8307f5644ca986ebd5efefec05df\") {\n",
       "      outputDiv = document.getElementById(\"altair-viz-177c8307f5644ca986ebd5efefec05df\");\n",
       "    }\n",
       "    const paths = {\n",
       "      \"vega\": \"https://cdn.jsdelivr.net/npm//vega@5?noext\",\n",
       "      \"vega-lib\": \"https://cdn.jsdelivr.net/npm//vega-lib?noext\",\n",
       "      \"vega-lite\": \"https://cdn.jsdelivr.net/npm//vega-lite@4.8.1?noext\",\n",
       "      \"vega-embed\": \"https://cdn.jsdelivr.net/npm//vega-embed@6?noext\",\n",
       "    };\n",
       "\n",
       "    function loadScript(lib) {\n",
       "      return new Promise(function(resolve, reject) {\n",
       "        var s = document.createElement('script');\n",
       "        s.src = paths[lib];\n",
       "        s.async = true;\n",
       "        s.onload = () => resolve(paths[lib]);\n",
       "        s.onerror = () => reject(`Error loading script: ${paths[lib]}`);\n",
       "        document.getElementsByTagName(\"head\")[0].appendChild(s);\n",
       "      });\n",
       "    }\n",
       "\n",
       "    function showError(err) {\n",
       "      outputDiv.innerHTML = `<div class=\"error\" style=\"color:red;\">${err}</div>`;\n",
       "      throw err;\n",
       "    }\n",
       "\n",
       "    function displayChart(vegaEmbed) {\n",
       "      vegaEmbed(outputDiv, spec, embedOpt)\n",
       "        .catch(err => showError(`Javascript Error: ${err.message}<br>This usually means there's a typo in your chart specification. See the javascript console for the full traceback.`));\n",
       "    }\n",
       "\n",
       "    if(typeof define === \"function\" && define.amd) {\n",
       "      requirejs.config({paths});\n",
       "      require([\"vega-embed\"], displayChart, err => showError(`Error loading script: ${err.message}`));\n",
       "    } else if (typeof vegaEmbed === \"function\") {\n",
       "      displayChart(vegaEmbed);\n",
       "    } else {\n",
       "      loadScript(\"vega\")\n",
       "        .then(() => loadScript(\"vega-lite\"))\n",
       "        .then(() => loadScript(\"vega-embed\"))\n",
       "        .catch(showError)\n",
       "        .then(() => displayChart(vegaEmbed));\n",
       "    }\n",
       "  })({\"config\": {\"view\": {\"continuousWidth\": 400, \"continuousHeight\": 300}, \"legend\": {\"cornerRadius\": 10, \"fillColor\": \"#EEEEEE\", \"labelFontSize\": 15, \"labelLimit\": 0, \"orient\": \"top\", \"padding\": 20, \"symbolSize\": 150, \"titleFontSize\": 20}, \"text\": {\"fontSize\": 13}}, \"hconcat\": [{\"mark\": \"text\", \"encoding\": {\"color\": {\"type\": \"nominal\", \"field\": \"recipe\"}, \"opacity\": {\"condition\": {\"value\": 1, \"selection\": \"selector014\"}, \"value\": 0.02}, \"text\": {\"type\": \"nominal\", \"field\": \"category\"}, \"y\": {\"type\": \"ordinal\", \"axis\": null, \"field\": \"row_number\"}}, \"selection\": {\"selector014\": {\"type\": \"single\", \"fields\": [\"recipe\"], \"bind\": \"legend\"}}, \"title\": \"category\", \"transform\": [{\"window\": [{\"op\": \"row_number\", \"field\": \"\", \"as\": \"row_number\"}]}, {\"window\": [{\"op\": \"rank\", \"field\": \"row_number\", \"as\": \"rank\"}]}], \"width\": 150}, {\"mark\": \"text\", \"encoding\": {\"color\": {\"type\": \"nominal\", \"field\": \"recipe\"}, \"opacity\": {\"condition\": {\"value\": 1, \"selection\": \"selector014\"}, \"value\": 0.02}, \"text\": {\"type\": \"nominal\", \"field\": \"quantity\"}, \"y\": {\"type\": \"ordinal\", \"axis\": null, \"field\": \"row_number\"}}, \"selection\": {\"selector014\": {\"type\": \"single\", \"fields\": [\"recipe\"], \"bind\": \"legend\"}}, \"title\": \"quantity\", \"transform\": [{\"window\": [{\"op\": \"row_number\", \"field\": \"\", \"as\": \"row_number\"}]}, {\"window\": [{\"op\": \"rank\", \"field\": \"row_number\", \"as\": \"rank\"}]}], \"width\": 150}, {\"mark\": \"text\", \"encoding\": {\"color\": {\"type\": \"nominal\", \"field\": \"recipe\"}, \"opacity\": {\"condition\": {\"value\": 1, \"selection\": \"selector014\"}, \"value\": 0.02}, \"text\": {\"type\": \"nominal\", \"field\": \"unit\"}, \"y\": {\"type\": \"ordinal\", \"axis\": null, \"field\": \"row_number\"}}, \"selection\": {\"selector014\": {\"type\": \"single\", \"fields\": [\"recipe\"], \"bind\": \"legend\"}}, \"title\": \"unit\", \"transform\": [{\"window\": [{\"op\": \"row_number\", \"field\": \"\", \"as\": \"row_number\"}]}, {\"window\": [{\"op\": \"rank\", \"field\": \"row_number\", \"as\": \"rank\"}]}], \"width\": 150}, {\"mark\": \"text\", \"encoding\": {\"color\": {\"type\": \"nominal\", \"field\": \"recipe\"}, \"opacity\": {\"condition\": {\"value\": 1, \"selection\": \"selector014\"}, \"value\": 0.02}, \"text\": {\"type\": \"nominal\", \"field\": \"product\"}, \"y\": {\"type\": \"ordinal\", \"axis\": null, \"field\": \"row_number\"}}, \"selection\": {\"selector014\": {\"type\": \"single\", \"fields\": [\"recipe\"], \"bind\": \"legend\"}}, \"title\": \"item\", \"transform\": [{\"window\": [{\"op\": \"row_number\", \"field\": \"\", \"as\": \"row_number\"}]}, {\"window\": [{\"op\": \"rank\", \"field\": \"row_number\", \"as\": \"rank\"}]}], \"width\": 150}], \"data\": {\"name\": \"data-7e6926be1ab63c432d1e7b27f9c607b0\"}, \"$schema\": \"https://vega.github.io/schema/vega-lite/v4.8.1.json\", \"datasets\": {\"data-7e6926be1ab63c432d1e7b27f9c607b0\": [{\"product\": \"eggs\", \"quantity\": 8.0, \"unit\": null, \"category\": \"Dairy and Egg Products\", \"recipe\": \"Spinach and Feta Turkey Burgers + Egg Salad with Celery\"}, {\"product\": \"feta cheese\", \"quantity\": 4.0, \"unit\": \"ounce\", \"category\": \"Dairy and Egg Products\", \"recipe\": \"Spinach and Feta Turkey Burgers\"}, {\"product\": \"mayonnaise\", \"quantity\": 0.5, \"unit\": \"cup\", \"category\": \"Fats and Oils\", \"recipe\": \"Egg Salad with Celery\"}, {\"product\": \"turkey\", \"quantity\": 2.0, \"unit\": \"pound\", \"category\": \"Poultry Products\", \"recipe\": \"Spinach and Feta Turkey Burgers\"}, {\"product\": \"mustard powder\", \"quantity\": 0.25, \"unit\": \"teaspoon\", \"category\": \"Spices and Herbs\", \"recipe\": \"Egg Salad with Celery\"}, {\"product\": \"salt\", \"quantity\": 0.125, \"unit\": \"teaspoon\", \"category\": \"Spices and Herbs\", \"recipe\": \"Egg Salad with Celery\"}, {\"product\": \"celery\", \"quantity\": 2.0, \"unit\": \"stalk\", \"category\": \"Vegetables and Vegetable Products\", \"recipe\": \"Egg Salad with Celery\"}, {\"product\": \"onion\", \"quantity\": 0.25, \"unit\": \"cup\", \"category\": \"Vegetables and Vegetable Products\", \"recipe\": \"Egg Salad with Celery\"}, {\"product\": \"1 (10 ounce) box frozen chopped spinach, thawed and squeezed dry\", \"quantity\": 0.0, \"unit\": null, \"category\": null, \"recipe\": \"Spinach and Feta Turkey Burgers\"}, {\"product\": \"garlic\", \"quantity\": 2.0, \"unit\": \"clove\", \"category\": null, \"recipe\": \"Spinach and Feta Turkey Burgers\"}]}}, {\"mode\": \"vega-lite\"});\n",
       "</script>"
      ]
     },
     "metadata": {},
     "execution_count": 44
    }
   ],
   "metadata": {}
  },
  {
   "cell_type": "code",
   "execution_count": 49,
   "source": [
    "save_updated_chart_spec()"
   ],
   "outputs": [],
   "metadata": {}
  }
 ],
 "metadata": {
  "orig_nbformat": 4,
  "language_info": {
   "name": "python"
  }
 },
 "nbformat": 4,
 "nbformat_minor": 2
}