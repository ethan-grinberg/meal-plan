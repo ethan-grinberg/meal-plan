{
 "cells": [
  {
   "cell_type": "code",
   "execution_count": 6,
   "source": [
    "import pandas as pd\r\n",
    "from recipe_scrapers import scrape_me\r\n",
    "import parse_ingredient\r\n",
    "import re\r\n",
    "import numpy as np"
   ],
   "outputs": [],
   "metadata": {}
  },
  {
   "cell_type": "code",
   "execution_count": 2,
   "source": [
    "scraper = scrape_me('https://www.allrecipes.com/recipe/158968/spinach-and-feta-turkey-burgers/')"
   ],
   "outputs": [],
   "metadata": {}
  },
  {
   "cell_type": "code",
   "execution_count": 3,
   "source": [
    "ingredients = scraper.ingredients()"
   ],
   "outputs": [],
   "metadata": {}
  },
  {
   "cell_type": "code",
   "execution_count": 18,
   "source": [
    "def parse_ingredients(ingredients):\r\n",
    "    data = []\r\n",
    "    for ingredient in ingredients:\r\n",
    "        print(ingredient)\r\n",
    "        info = (ingredient, np.NaN, np.NaN, np.NaN)\r\n",
    "        try:\r\n",
    "            info = parse_ingredient.parse(ingredient)\r\n",
    "            info = info.as_dict()\r\n",
    "        except Exception as e:\r\n",
    "            pass\r\n",
    "            data.append(info)\r\n",
    "            continue\r\n",
    "        \r\n",
    "        #puts original ingredient if low confidence\r\n",
    "        if info[\"confidence\"] <= .05:\r\n",
    "            data.append((ingredient, np.NaN, np.NaN, np.NaN))\r\n",
    "            continue\r\n",
    "        \r\n",
    "        #puts all information together\r\n",
    "        data.append((info[\"product\"], info[\"quantity\"], info[\"unit\"], info[\"usda_info\"][\"category\"]))\r\n",
    "        \r\n",
    "    return pd.DataFrame(data, columns=[\"product\", \"quantity\", \"unit\", \"category\"])\r\n"
   ],
   "outputs": [],
   "metadata": {}
  },
  {
   "cell_type": "code",
   "execution_count": 24,
   "source": [
    "shopping_list = parse_ingredients(ingredients)"
   ],
   "outputs": [
    {
     "output_type": "stream",
     "name": "stdout",
     "text": [
      "2 eggs, beaten\n",
      "None\n",
      "{'ingredientRaw': '2 eggs, beaten', 'confidence': 0.9764371000000001, 'ingredientParsed': {'product': 'eggs', 'usdaInfo': {'category': 'Dairy and Egg Products', 'matchMethod': 'exact', 'description': 'Egg, whole, raw, fresh', 'fdcId': '171287'}, 'preparationNotes': 'beaten', 'productSizeModifier': None, 'unit': None, 'quantity': 2.0}, 'error': None}\n",
      "2 cloves garlic, minced\n",
      "None\n",
      "{'ingredientRaw': '2 cloves garlic, minced', 'confidence': 0.9817117, 'ingredientParsed': {'product': 'garlic', 'usdaInfo': {'category': None, 'matchMethod': 'exact', 'description': 'Garlic, raw', 'fdcId': '787793'}, 'preparationNotes': 'minced', 'productSizeModifier': None, 'unit': 'clove', 'quantity': 2.0}, 'error': None}\n",
      "4 ounces feta cheese\n",
      "None\n",
      "{'ingredientRaw': '4 ounces feta cheese', 'confidence': 0.9916780000000001, 'ingredientParsed': {'product': 'feta cheese', 'usdaInfo': {'category': 'Dairy and Egg Products', 'matchMethod': 'exact', 'description': 'Cheese, feta', 'fdcId': '173420'}, 'preparationNotes': None, 'productSizeModifier': None, 'unit': 'ounce', 'quantity': 4.0}, 'error': None}\n",
      "1 (10 ounce) box frozen chopped spinach, thawed and squeezed dry\n",
      "None\n",
      "{'ingredientRaw': '1 (10 ounce) box frozen chopped spinach, thawed and squeezed dry', 'confidence': 0.334193, 'ingredientParsed': {'product': None, 'usdaInfo': None, 'preparationNotes': 'thawed and squeezed dry', 'productSizeModifier': None, 'unit': 'box', 'quantity': 1.0}, 'error': None}\n",
      "2 pounds ground turkey\n",
      "None\n",
      "{'ingredientRaw': '2 pounds ground turkey', 'confidence': 0.9139855, 'ingredientParsed': {'product': 'turkey', 'usdaInfo': {'category': 'Poultry Products', 'matchMethod': 'closestUnbranded', 'description': 'Turkey, whole, light meat, raw', 'fdcId': '171490'}, 'preparationNotes': 'ground', 'productSizeModifier': None, 'unit': 'pound', 'quantity': 2.0}, 'error': None}\n"
     ]
    }
   ],
   "metadata": {}
  },
  {
   "cell_type": "code",
   "execution_count": 25,
   "source": [
    "shopping_list"
   ],
   "outputs": [
    {
     "output_type": "execute_result",
     "data": {
      "text/plain": [
       "                                             product  quantity   unit  \\\n",
       "0                                               eggs       2.0   None   \n",
       "1                                             garlic       2.0  clove   \n",
       "2                                        feta cheese       4.0  ounce   \n",
       "3  1 (10 ounce) box frozen chopped spinach, thawe...       NaN    NaN   \n",
       "4                                             turkey       2.0  pound   \n",
       "\n",
       "                 category  \n",
       "0  Dairy and Egg Products  \n",
       "1                    None  \n",
       "2  Dairy and Egg Products  \n",
       "3                     NaN  \n",
       "4        Poultry Products  "
      ],
      "text/html": [
       "<div>\n",
       "<style scoped>\n",
       "    .dataframe tbody tr th:only-of-type {\n",
       "        vertical-align: middle;\n",
       "    }\n",
       "\n",
       "    .dataframe tbody tr th {\n",
       "        vertical-align: top;\n",
       "    }\n",
       "\n",
       "    .dataframe thead th {\n",
       "        text-align: right;\n",
       "    }\n",
       "</style>\n",
       "<table border=\"1\" class=\"dataframe\">\n",
       "  <thead>\n",
       "    <tr style=\"text-align: right;\">\n",
       "      <th></th>\n",
       "      <th>product</th>\n",
       "      <th>quantity</th>\n",
       "      <th>unit</th>\n",
       "      <th>category</th>\n",
       "    </tr>\n",
       "  </thead>\n",
       "  <tbody>\n",
       "    <tr>\n",
       "      <th>0</th>\n",
       "      <td>eggs</td>\n",
       "      <td>2.0</td>\n",
       "      <td>None</td>\n",
       "      <td>Dairy and Egg Products</td>\n",
       "    </tr>\n",
       "    <tr>\n",
       "      <th>1</th>\n",
       "      <td>garlic</td>\n",
       "      <td>2.0</td>\n",
       "      <td>clove</td>\n",
       "      <td>None</td>\n",
       "    </tr>\n",
       "    <tr>\n",
       "      <th>2</th>\n",
       "      <td>feta cheese</td>\n",
       "      <td>4.0</td>\n",
       "      <td>ounce</td>\n",
       "      <td>Dairy and Egg Products</td>\n",
       "    </tr>\n",
       "    <tr>\n",
       "      <th>3</th>\n",
       "      <td>1 (10 ounce) box frozen chopped spinach, thawe...</td>\n",
       "      <td>NaN</td>\n",
       "      <td>NaN</td>\n",
       "      <td>NaN</td>\n",
       "    </tr>\n",
       "    <tr>\n",
       "      <th>4</th>\n",
       "      <td>turkey</td>\n",
       "      <td>2.0</td>\n",
       "      <td>pound</td>\n",
       "      <td>Poultry Products</td>\n",
       "    </tr>\n",
       "  </tbody>\n",
       "</table>\n",
       "</div>"
      ]
     },
     "metadata": {},
     "execution_count": 25
    }
   ],
   "metadata": {}
  },
  {
   "cell_type": "markdown",
   "source": [
    "Note: I can join all of the different types of units (value counts) together when I group by product"
   ],
   "metadata": {}
  }
 ],
 "metadata": {
  "orig_nbformat": 4,
  "language_info": {
   "name": "python"
  }
 },
 "nbformat": 4,
 "nbformat_minor": 2
}