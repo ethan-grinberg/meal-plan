{
 "cells": [
  {
   "cell_type": "code",
   "execution_count": 5,
   "source": [
    "import pandas as pd\r\n",
    "from recipe_scrapers import scrape_me\r\n",
    "import parse_ingredient\r\n",
    "import altair as alt\r\n",
    "import numpy as np\r\n",
    "import os\r\n",
    "from functools import reduce"
   ],
   "outputs": [],
   "metadata": {}
  },
  {
   "cell_type": "code",
   "execution_count": 6,
   "source": [
    "urls = ['https://www.allrecipes.com/recipe/279938/egg-salad-with-celery/', 'https://www.allrecipes.com/recipe/158968/spinach-and-feta-turkey-burgers/']"
   ],
   "outputs": [],
   "metadata": {}
  },
  {
   "cell_type": "code",
   "execution_count": 7,
   "source": [
    "def compile_recipe_info(urls):\r\n",
    "    dfs = []\r\n",
    "    for url in urls:\r\n",
    "        scraper = scrape_me(url)\r\n",
    "        ingredient_info = parse_ingredients(scraper.ingredients())\r\n",
    "\r\n",
    "        #Add other info\r\n",
    "        ingredient_info[\"recipe\"] = scraper.title()\r\n",
    "        ingredient_info[\"cook_time\"] = scraper.total_time()\r\n",
    "        ingredient_info[\"link\"] = url\r\n",
    "\r\n",
    "        dfs.append(ingredient_info)\r\n",
    "\r\n",
    "    return pd.concat(dfs)"
   ],
   "outputs": [],
   "metadata": {}
  },
  {
   "cell_type": "code",
   "execution_count": 52,
   "source": [
    "def parse_ingredients(ingredients):\r\n",
    "    data = []\r\n",
    "    for ingredient in ingredients:\r\n",
    "        print(ingredient)\r\n",
    "        info = (ingredient, np.NaN, np.NaN, np.NaN)\r\n",
    "        try:\r\n",
    "            info = parse_ingredient.parse(ingredient)\r\n",
    "            info = info.as_dict()\r\n",
    "        except Exception as e:\r\n",
    "            pass\r\n",
    "            data.append(info)\r\n",
    "            continue\r\n",
    "        \r\n",
    "        #puts original ingredient if low confidence\r\n",
    "        if info[\"confidence\"] <= .05:\r\n",
    "            data.append((ingredient, np.NaN, np.NaN, np.NaN))\r\n",
    "            continue\r\n",
    "        \r\n",
    "        #puts all information together\r\n",
    "        data.append((info[\"product\"], info[\"quantity\"], info[\"unit\"], info[\"usda_info\"][\"category\"]))\r\n",
    "        \r\n",
    "    return pd.DataFrame(data, columns=[\"product\", \"quantity\", \"unit\", \"category\"])\r\n"
   ],
   "outputs": [],
   "metadata": {}
  },
  {
   "cell_type": "code",
   "execution_count": 59,
   "source": [
    "def merge_shopping_list(list_):\r\n",
    "    quantity = list_.groupby(\"product\").quantity.sum()\r\n",
    "    units = list_.groupby(\"product\").unit.unique()\r\n",
    "    categories = list_.groupby(\"product\").category.first()\r\n",
    "    recipes = list_.groupby(\"product\").recipe.unique()\r\n",
    "\r\n",
    "    #union multiple recipes\r\n",
    "    recipes = recipes.str.join(\" + \")\r\n",
    "    #union multiple units\r\n",
    "    units = units.str.join(\", \")\r\n",
    "\r\n",
    "    df_merged = reduce(lambda left, right: pd.merge(left, right, left_index=True, right_index=True), [quantity, units, categories, recipes])\r\n",
    "\r\n",
    "    #prioritze items part of more recipes\r\n",
    "    # s = df_merged.recipe.str.len().sort_values(ascending=False).index\r\n",
    "    # df_merged = df_merged.reindex(s)\r\n",
    "    \r\n",
    "    df_merged = df_merged.sort_values([\"category\"])\r\n",
    "    return df_merged.reset_index()"
   ],
   "outputs": [],
   "metadata": {}
  },
  {
   "cell_type": "code",
   "execution_count": 54,
   "source": [
    "def get_interactive_shopping_list(final_shopping_list):\r\n",
    "    selection = alt.selection(fields=[\"recipe\"], type=\"single\", bind=\"legend\")\r\n",
    "\r\n",
    "    ranked_text = alt.Chart(final_shopping_list).mark_text().encode(\r\n",
    "        y=alt.Y('row_number:O',axis=None),\r\n",
    "        color=\"recipe:N\",\r\n",
    "        opacity=alt.condition(selection, alt.value(1), alt.value(0.02))\r\n",
    "    ).add_selection(selection).transform_window(\r\n",
    "        row_number='row_number()'\r\n",
    "    ).transform_window(\r\n",
    "        rank='rank(row_number)'\r\n",
    "    ).properties(width=150)\r\n",
    "\r\n",
    "    # Data Tables\r\n",
    "    category = ranked_text.encode(text='category:N').properties(title='category')\r\n",
    "    quantity = ranked_text.encode(text='quantity:N').properties(title='quantity')\r\n",
    "    unit = ranked_text.encode(text='unit:N').properties(title='unit')\r\n",
    "    item = ranked_text.encode(text='product:N').properties(title='item')\r\n",
    "\r\n",
    "    chart = alt.hconcat(category, quantity, unit, item) # Combine data tables\r\n",
    "    \r\n",
    "    #set font sizes\r\n",
    "    chart = chart.configure_legend(padding=20, labelFontSize=5, fillColor='#EEEEEE', cornerRadius=10, rowPadding=10)\r\n",
    "    chart = chart.configure_text(fontSize=12)\r\n",
    "\r\n",
    "    return chart\r\n"
   ],
   "outputs": [],
   "metadata": {}
  },
  {
   "cell_type": "code",
   "execution_count": 60,
   "source": [
    "list_ = compile_recipe_info(urls)\r\n",
    "final_shopping_list = merge_shopping_list(list_)\r\n",
    "chart = get_interactive_shopping_list(final_shopping_list)"
   ],
   "outputs": [
    {
     "output_type": "stream",
     "name": "stdout",
     "text": [
      "6 large eggs\n",
      "None\n",
      "2 stalks celery, finely chopped\n",
      "None\n",
      "½ cup mayonnaise (such as Hellman's®)\n",
      "None\n",
      "¼ cup finely chopped onion\n",
      "None\n",
      "¼ teaspoon mustard powder\n",
      "None\n",
      "⅛ teaspoon salt\n",
      "None\n",
      "2 eggs, beaten\n",
      "None\n",
      "2 cloves garlic, minced\n",
      "None\n",
      "4 ounces feta cheese\n",
      "None\n",
      "1 (10 ounce) box frozen chopped spinach, thawed and squeezed dry\n",
      "None\n",
      "2 pounds ground turkey\n",
      "None\n"
     ]
    }
   ],
   "metadata": {}
  },
  {
   "cell_type": "code",
   "execution_count": 67,
   "source": [
    "#Save shopping list data to data folder\r\n",
    "os.chdir(\"..\")\r\n",
    "os.chdir(\"data/\")\r\n",
    "final_shopping_list.to_json(\"shopping_list.json\", orient=\"index\")\r\n",
    "os.chdir(\"..\")\r\n",
    "os.chdir(\"grocery_engine/\")"
   ],
   "outputs": [],
   "metadata": {}
  },
  {
   "cell_type": "code",
   "execution_count": 34,
   "source": [
    "recipe_table = list_.groupby(\"recipe\").apply(lambda df: df.iloc[0]).loc[:, [\"cook_time\", \"link\"]]\r\n",
    "recipe_table = recipe_table.reset_index()"
   ],
   "outputs": [],
   "metadata": {}
  },
  {
   "cell_type": "code",
   "execution_count": 51,
   "source": [
    "#save recipe table to data folder\r\n",
    "os.chdir(\"..\")\r\n",
    "os.chdir(\"data/\")\r\n",
    "recipe_table.to_html(\"recipe_table.html\", render_links=True)\r\n",
    "os.chdir(\"..\")\r\n",
    "os.chdir(\"grocery_engine/\")"
   ],
   "outputs": [],
   "metadata": {}
  }
 ],
 "metadata": {
  "orig_nbformat": 4,
  "language_info": {
   "name": "python"
  }
 },
 "nbformat": 4,
 "nbformat_minor": 2
}