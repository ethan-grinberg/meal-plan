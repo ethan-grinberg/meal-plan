{
 "cells": [
  {
   "cell_type": "code",
   "execution_count": 4,
   "source": [
    "import altair as alt\r\n",
    "import os\r\n",
    "import pandas as pd"
   ],
   "outputs": [],
   "metadata": {}
  },
  {
   "cell_type": "code",
   "execution_count": 5,
   "source": [
    "shopping_list_url = 'https://ethanbg2.github.io/meal-plan/data/shopping_list.json'"
   ],
   "outputs": [],
   "metadata": {}
  },
  {
   "cell_type": "code",
   "execution_count": 29,
   "source": [
    "def get_interactive_shopping_list(data_url):\r\n",
    "    num_items = len(pd.read_json(data_url))\r\n",
    "\r\n",
    "    selection = alt.selection(fields=[\"recipe\"], type=\"single\", bind=\"legend\")\r\n",
    "\r\n",
    "    ranked_text = alt.Chart(data_url).mark_text().encode(\r\n",
    "        y=alt.Y('row_number:O',axis=None),\r\n",
    "        color=\"recipe:N\",\r\n",
    "        opacity=alt.condition(selection, alt.value(1), alt.value(0.02)),\r\n",
    "        tooltip=alt.Tooltip([\"recipe:N\", \"quantity:Q\", \"unit:N\"])\r\n",
    "    ).add_selection(selection).transform_window(\r\n",
    "        row_number='row_number()'\r\n",
    "    ).transform_window(\r\n",
    "        rank='rank(row_number)'\r\n",
    "    ).properties(width=150, height=(num_items*45))\r\n",
    "\r\n",
    "    # Data Tables\r\n",
    "    category = ranked_text.encode(text='category:N').properties(title='category')\r\n",
    "    # quantity = ranked_text.encode(text='quantity:N').properties(title='quantity')\r\n",
    "    # unit = ranked_text.encode(text='unit:N').properties(title='unit')\r\n",
    "    item = ranked_text.encode(text='product:N').properties(title='item')\r\n",
    "\r\n",
    "    chart = alt.hconcat(category, item).configure_view(strokeWidth=0).configure_title(fontSize=20)# Combine data tables\r\n",
    "    \r\n",
    "    #set font sizes\r\n",
    "    chart = chart.configure_legend(padding=20, labelFontSize=20, titleFontSize=25, fillColor='#EEEEEE', cornerRadius=10, labelLimit=0, orient=\"top\", direction= \"vertical\", symbolSize=500, rowPadding=18)\r\n",
    "    chart = chart.configure_text(fontSize=20)\r\n",
    "\r\n",
    "    return chart\r\n"
   ],
   "outputs": [],
   "metadata": {}
  },
  {
   "cell_type": "code",
   "execution_count": 7,
   "source": [
    "def save_updated_chart_spec():\r\n",
    "    chart = get_interactive_shopping_list(shopping_list_url)\r\n",
    "\r\n",
    "    os.chdir(\"..\")\r\n",
    "    os.chdir(\"data/\")\r\n",
    "    chart.save(\"chart_spec.json\")\r\n",
    "    os.chdir(\"..\")\r\n",
    "    os.chdir(\"grocery_engine/\")"
   ],
   "outputs": [],
   "metadata": {}
  },
  {
   "cell_type": "code",
   "execution_count": 30,
   "source": [
    "get_interactive_shopping_list(shopping_list_url)"
   ],
   "outputs": [
    {
     "output_type": "execute_result",
     "data": {
      "text/plain": [
       "alt.HConcatChart(...)"
      ],
      "text/html": [
       "\n",
       "<div id=\"altair-viz-7eeb192956894114bab68102db18840c\"></div>\n",
       "<script type=\"text/javascript\">\n",
       "  (function(spec, embedOpt){\n",
       "    let outputDiv = document.currentScript.previousElementSibling;\n",
       "    if (outputDiv.id !== \"altair-viz-7eeb192956894114bab68102db18840c\") {\n",
       "      outputDiv = document.getElementById(\"altair-viz-7eeb192956894114bab68102db18840c\");\n",
       "    }\n",
       "    const paths = {\n",
       "      \"vega\": \"https://cdn.jsdelivr.net/npm//vega@5?noext\",\n",
       "      \"vega-lib\": \"https://cdn.jsdelivr.net/npm//vega-lib?noext\",\n",
       "      \"vega-lite\": \"https://cdn.jsdelivr.net/npm//vega-lite@4.8.1?noext\",\n",
       "      \"vega-embed\": \"https://cdn.jsdelivr.net/npm//vega-embed@6?noext\",\n",
       "    };\n",
       "\n",
       "    function loadScript(lib) {\n",
       "      return new Promise(function(resolve, reject) {\n",
       "        var s = document.createElement('script');\n",
       "        s.src = paths[lib];\n",
       "        s.async = true;\n",
       "        s.onload = () => resolve(paths[lib]);\n",
       "        s.onerror = () => reject(`Error loading script: ${paths[lib]}`);\n",
       "        document.getElementsByTagName(\"head\")[0].appendChild(s);\n",
       "      });\n",
       "    }\n",
       "\n",
       "    function showError(err) {\n",
       "      outputDiv.innerHTML = `<div class=\"error\" style=\"color:red;\">${err}</div>`;\n",
       "      throw err;\n",
       "    }\n",
       "\n",
       "    function displayChart(vegaEmbed) {\n",
       "      vegaEmbed(outputDiv, spec, embedOpt)\n",
       "        .catch(err => showError(`Javascript Error: ${err.message}<br>This usually means there's a typo in your chart specification. See the javascript console for the full traceback.`));\n",
       "    }\n",
       "\n",
       "    if(typeof define === \"function\" && define.amd) {\n",
       "      requirejs.config({paths});\n",
       "      require([\"vega-embed\"], displayChart, err => showError(`Error loading script: ${err.message}`));\n",
       "    } else if (typeof vegaEmbed === \"function\") {\n",
       "      displayChart(vegaEmbed);\n",
       "    } else {\n",
       "      loadScript(\"vega\")\n",
       "        .then(() => loadScript(\"vega-lite\"))\n",
       "        .then(() => loadScript(\"vega-embed\"))\n",
       "        .catch(showError)\n",
       "        .then(() => displayChart(vegaEmbed));\n",
       "    }\n",
       "  })({\"config\": {\"view\": {\"continuousWidth\": 400, \"continuousHeight\": 300, \"strokeWidth\": 0}, \"legend\": {\"cornerRadius\": 10, \"direction\": \"vertical\", \"fillColor\": \"#EEEEEE\", \"labelFontSize\": 20, \"labelLimit\": 0, \"orient\": \"top-right\", \"padding\": 20, \"rowPadding\": 18, \"symbolSize\": 500, \"titleFontSize\": 25}, \"text\": {\"fontSize\": 20}, \"title\": {\"fontSize\": 20}}, \"hconcat\": [{\"mark\": \"text\", \"encoding\": {\"color\": {\"type\": \"nominal\", \"field\": \"recipe\"}, \"opacity\": {\"condition\": {\"value\": 1, \"selection\": \"selector013\"}, \"value\": 0.02}, \"text\": {\"type\": \"nominal\", \"field\": \"category\"}, \"tooltip\": [{\"type\": \"nominal\", \"field\": \"recipe\"}, {\"type\": \"quantitative\", \"field\": \"quantity\"}, {\"type\": \"nominal\", \"field\": \"unit\"}], \"y\": {\"type\": \"ordinal\", \"axis\": null, \"field\": \"row_number\"}}, \"height\": 675, \"selection\": {\"selector013\": {\"type\": \"single\", \"fields\": [\"recipe\"], \"bind\": \"legend\"}}, \"title\": \"category\", \"transform\": [{\"window\": [{\"op\": \"row_number\", \"field\": \"\", \"as\": \"row_number\"}]}, {\"window\": [{\"op\": \"rank\", \"field\": \"row_number\", \"as\": \"rank\"}]}], \"width\": 150}, {\"mark\": \"text\", \"encoding\": {\"color\": {\"type\": \"nominal\", \"field\": \"recipe\"}, \"opacity\": {\"condition\": {\"value\": 1, \"selection\": \"selector013\"}, \"value\": 0.02}, \"text\": {\"type\": \"nominal\", \"field\": \"product\"}, \"tooltip\": [{\"type\": \"nominal\", \"field\": \"recipe\"}, {\"type\": \"quantitative\", \"field\": \"quantity\"}, {\"type\": \"nominal\", \"field\": \"unit\"}], \"y\": {\"type\": \"ordinal\", \"axis\": null, \"field\": \"row_number\"}}, \"height\": 675, \"selection\": {\"selector013\": {\"type\": \"single\", \"fields\": [\"recipe\"], \"bind\": \"legend\"}}, \"title\": \"item\", \"transform\": [{\"window\": [{\"op\": \"row_number\", \"field\": \"\", \"as\": \"row_number\"}]}, {\"window\": [{\"op\": \"rank\", \"field\": \"row_number\", \"as\": \"rank\"}]}], \"width\": 150}], \"data\": {\"url\": \"https://ethanbg2.github.io/meal-plan/data/shopping_list.json\"}, \"$schema\": \"https://vega.github.io/schema/vega-lite/v4.8.1.json\"}, {\"mode\": \"vega-lite\"});\n",
       "</script>"
      ]
     },
     "metadata": {},
     "execution_count": 30
    }
   ],
   "metadata": {}
  },
  {
   "cell_type": "code",
   "execution_count": 28,
   "source": [
    "save_updated_chart_spec()"
   ],
   "outputs": [],
   "metadata": {}
  }
 ],
 "metadata": {
  "orig_nbformat": 4,
  "language_info": {
   "name": "python",
   "version": "3.8.5",
   "mimetype": "text/x-python",
   "codemirror_mode": {
    "name": "ipython",
    "version": 3
   },
   "pygments_lexer": "ipython3",
   "nbconvert_exporter": "python",
   "file_extension": ".py"
  },
  "kernelspec": {
   "name": "python3",
   "display_name": "Python 3.8.5 64-bit ('base': conda)"
  },
  "interpreter": {
   "hash": "bdb1f293a72cda3337025d9d00554afb1343cd7218118617db03a8cb5103ebd2"
  }
 },
 "nbformat": 4,
 "nbformat_minor": 2
}